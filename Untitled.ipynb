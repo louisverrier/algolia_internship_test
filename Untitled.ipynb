{
 "cells": [
  {
   "cell_type": "markdown",
   "metadata": {},
   "source": [
    "# Algolia internship assignment - Louis Verrier\n",
    "\n",
    "The provided data archive contains one month of anonymized aggregated searches coming from HN Search.\n",
    "\n",
    "The goal of this test is to evaluate your ability to find and communicate meaningful insights in the data. We ask you to determine the 10 most popular searches (in term of number of searches in the whole dataset) and for each search, to plot its number of requests over time."
   ]
  },
  {
   "cell_type": "code",
   "execution_count": 1,
   "metadata": {},
   "outputs": [],
   "source": [
    "import os\n",
    "import numpy as np\n",
    "import pandas as pd\n",
    "import matplotlib.pyplot as plt"
   ]
  },
  {
   "cell_type": "code",
   "execution_count": 2,
   "metadata": {},
   "outputs": [],
   "source": [
    "import json"
   ]
  },
  {
   "cell_type": "code",
   "execution_count": 11,
   "metadata": {},
   "outputs": [
    {
     "name": "stdout",
     "output_type": "stream",
     "text": [
      "Ligne de fin de fichier non terminée\n"
     ]
    }
   ],
   "source": [
    "path_data = 'C:\\hn_insights_data'\n",
    "file = '2018-06-14'\n",
    "\n",
    "data = []\n",
    "\n",
    "with open(os.path.join(path_data,file),errors='ignore') as train_file:\n",
    "    for line in train_file:\n",
    "        try:\n",
    "            data.append(json.loads(line))\n",
    "        except:\n",
    "            # pass\n",
    "            print(\"Ligne de fin de fichier non terminée\")"
   ]
  },
  {
   "cell_type": "code",
   "execution_count": 20,
   "metadata": {},
   "outputs": [
    {
     "name": "stdout",
     "output_type": "stream",
     "text": [
      "41309\n"
     ]
    },
    {
     "data": {
      "text/plain": [
       "[{'timestamp': '2018-06-14T00:00:31.385Z',\n",
       "  'app_id': 'UJ5WYC0L7X',\n",
       "  'index': 'Item_production',\n",
       "  'query_id': '8b339e098f8daed79fec708843d4fa69',\n",
       "  'query': 'real estate',\n",
       "  'filters': [{'attribute': '_tags', 'operator': ':', 'value': 'story'}],\n",
       "  'hits': ['14158772',\n",
       "   '4638286',\n",
       "   '14719749',\n",
       "   '15508956',\n",
       "   '10728058',\n",
       "   '1646087',\n",
       "   '10263075',\n",
       "   '14874910',\n",
       "   '12160680',\n",
       "   '15750785'],\n",
       "  'nb_hits': 2275},\n",
       " {'timestamp': '2018-06-14T00:00:16.552Z',\n",
       "  'app_id': 'UJ5WYC0L7X',\n",
       "  'index': 'Item_production',\n",
       "  'query_id': 'c31777eb5fd99ed0743259172ee2e6c4',\n",
       "  'query': 'bird',\n",
       "  'filters': [{'attribute': '_tags', 'operator': ':', 'value': 'story'}],\n",
       "  'hits': ['3374434',\n",
       "   '11766851',\n",
       "   '7380754',\n",
       "   '9112145',\n",
       "   '16823201',\n",
       "   '3732385',\n",
       "   '12917538',\n",
       "   '4432086',\n",
       "   '16636791',\n",
       "   '4105397'],\n",
       "  'nb_hits': 13464}]"
      ]
     },
     "execution_count": 20,
     "metadata": {},
     "output_type": "execute_result"
    }
   ],
   "source": [
    "print(len(data))\n",
    "data[:2]"
   ]
  },
  {
   "cell_type": "code",
   "execution_count": 21,
   "metadata": {},
   "outputs": [
    {
     "name": "stdout",
     "output_type": "stream",
     "text": [
      "2018-06-14\n",
      "2018-06-15\n",
      "2018-06-16\n",
      "2018-06-17\n",
      "2018-06-18\n",
      "2018-06-19\n",
      "2018-06-20\n",
      "2018-06-21\n",
      "2018-06-22\n",
      "2018-06-23\n",
      "2018-06-24\n",
      "2018-06-25\n",
      "2018-06-26\n",
      "2018-06-27\n",
      "2018-06-28\n",
      "2018-06-29\n",
      "2018-06-30\n",
      "2018-07-01\n",
      "2018-07-02\n",
      "2018-07-03\n",
      "2018-07-04\n",
      "2018-07-05\n",
      "2018-07-06\n",
      "2018-07-07\n",
      "2018-07-08\n",
      "2018-07-09\n",
      "2018-07-10\n",
      "2018-07-11\n",
      "2018-07-12\n",
      "2018-07-13\n",
      "2018-07-14\n"
     ]
    }
   ],
   "source": [
    "from datetime import timedelta, date\n",
    "\n",
    "def daterange(start_date, end_date):\n",
    "    for n in range(int ((end_date - start_date).days)):\n",
    "        yield start_date + timedelta(n)\n",
    "\n",
    "start_date = date(2018, 6, 14)\n",
    "end_date = date(2018, 7, 15)\n",
    "for single_date in daterange(start_date, end_date):\n",
    "    print(single_date.strftime(\"%Y-%m-%d\"))"
   ]
  },
  {
   "cell_type": "code",
   "execution_count": 25,
   "metadata": {},
   "outputs": [
    {
     "name": "stdout",
     "output_type": "stream",
     "text": [
      "2018-06-14\n",
      "Ligne de fin de fichier non terminée\n",
      "2018-06-15\n",
      "Ligne de fin de fichier non terminée\n",
      "2018-06-16\n",
      "Ligne de fin de fichier non terminée\n",
      "2018-06-17\n",
      "Ligne de fin de fichier non terminée\n",
      "2018-06-18\n",
      "Ligne de fin de fichier non terminée\n",
      "2018-06-19\n",
      "Ligne de fin de fichier non terminée\n",
      "2018-06-20\n",
      "Ligne de fin de fichier non terminée\n",
      "2018-06-21\n",
      "Ligne de fin de fichier non terminée\n",
      "2018-06-22\n",
      "Ligne de fin de fichier non terminée\n",
      "2018-06-23\n",
      "Ligne de fin de fichier non terminée\n",
      "2018-06-24\n",
      "Ligne de fin de fichier non terminée\n",
      "2018-06-25\n",
      "Ligne de fin de fichier non terminée\n",
      "2018-06-26\n",
      "Ligne de fin de fichier non terminée\n",
      "2018-06-27\n",
      "Ligne de fin de fichier non terminée\n",
      "2018-06-28\n",
      "Ligne de fin de fichier non terminée\n",
      "2018-06-29\n",
      "Ligne de fin de fichier non terminée\n",
      "2018-06-30\n",
      "Ligne de fin de fichier non terminée\n",
      "2018-07-01\n",
      "Ligne de fin de fichier non terminée\n",
      "2018-07-02\n",
      "Ligne de fin de fichier non terminée\n",
      "2018-07-03\n",
      "Ligne de fin de fichier non terminée\n",
      "2018-07-04\n",
      "Ligne de fin de fichier non terminée\n",
      "2018-07-05\n",
      "Ligne de fin de fichier non terminée\n",
      "2018-07-06\n",
      "Ligne de fin de fichier non terminée\n",
      "2018-07-07\n",
      "Ligne de fin de fichier non terminée\n",
      "2018-07-08\n",
      "Ligne de fin de fichier non terminée\n",
      "2018-07-09\n",
      "Ligne de fin de fichier non terminée\n",
      "2018-07-10\n",
      "Ligne de fin de fichier non terminée\n",
      "2018-07-11\n",
      "Ligne de fin de fichier non terminée\n",
      "2018-07-12\n",
      "Ligne de fin de fichier non terminée\n",
      "2018-07-13\n",
      "Ligne de fin de fichier non terminée\n",
      "2018-07-14\n",
      "Ligne de fin de fichier non terminée\n"
     ]
    }
   ],
   "source": [
    "data = []\n",
    "\n",
    "for single_date in daterange(start_date, end_date):\n",
    "    file=single_date.strftime(\"%Y-%m-%d\")\n",
    "    print(file)\n",
    "\n",
    "    with open(os.path.join(path_data,file),errors='ignore') as train_file:\n",
    "        for line in train_file:\n",
    "            try:\n",
    "                data.append(json.loads(line))\n",
    "            except:\n",
    "                # pass\n",
    "                print(\"Ligne de fin de fichier non terminée\")"
   ]
  },
  {
   "cell_type": "code",
   "execution_count": 26,
   "metadata": {},
   "outputs": [
    {
     "data": {
      "text/plain": [
       "881052"
      ]
     },
     "execution_count": 26,
     "metadata": {},
     "output_type": "execute_result"
    }
   ],
   "source": [
    "len(data)"
   ]
  }
 ],
 "metadata": {
  "kernelspec": {
   "display_name": "Python 3",
   "language": "python",
   "name": "python3"
  },
  "language_info": {
   "codemirror_mode": {
    "name": "ipython",
    "version": 3
   },
   "file_extension": ".py",
   "mimetype": "text/x-python",
   "name": "python",
   "nbconvert_exporter": "python",
   "pygments_lexer": "ipython3",
   "version": "3.6.5"
  }
 },
 "nbformat": 4,
 "nbformat_minor": 2
}
